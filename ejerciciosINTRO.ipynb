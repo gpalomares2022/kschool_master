{
 "cells": [
  {
   "cell_type": "markdown",
   "id": "886e8066",
   "metadata": {},
   "source": [
    "## Ejercicios intro Python"
   ]
  },
  {
   "cell_type": "markdown",
   "id": "ae80e873",
   "metadata": {},
   "source": [
    "Escribe un programa que encuentre todos los números que sean divisibles por 7 pero que no sean múltiplos de 5,\n",
    "entre 2000 y 3200 (ambos incluidos).\n",
    "Los números obtenidos deben imprimirse en una secuencia separada por comas en una sola línea.\n",
    "\n",
    "pseudocódigo:\n",
    "-genera una lista vacía dónde almacenarás los resultados\n",
    "-recorre los números de interés con un bucle\n",
    "-condicional dentro del bucle (operador combinacional)\n",
    "-vete añadiendo la lista vacía\n",
    "-muestra la lista por pantalla de forma conveniente"
   ]
  },
  {
   "cell_type": "code",
   "execution_count": 38,
   "id": "2d075f1f",
   "metadata": {
    "scrolled": false
   },
   "outputs": [
    {
     "data": {
      "text/plain": [
       "'2002,2009,2016,2023,2037,2044,2051,2058,2072,2079,2086,2093,2107,2114,2121,2128,2142,2149,2156,2163,2177,2184,2191,2198,2212,2219,2226,2233,2247,2254,2261,2268,2282,2289,2296,2303,2317,2324,2331,2338,2352,2359,2366,2373,2387,2394,2401,2408,2422,2429,2436,2443,2457,2464,2471,2478,2492,2499,2506,2513,2527,2534,2541,2548,2562,2569,2576,2583,2597,2604,2611,2618,2632,2639,2646,2653,2667,2674,2681,2688,2702,2709,2716,2723,2737,2744,2751,2758,2772,2779,2786,2793,2807,2814,2821,2828,2842,2849,2856,2863,2877,2884,2891,2898,2912,2919,2926,2933,2947,2954,2961,2968,2982,2989,2996,3003,3017,3024,3031,3038,3052,3059,3066,3073,3087,3094,3101,3108,3122,3129,3136,3143,3157,3164,3171,3178,3192,3199'"
      ]
     },
     "execution_count": 38,
     "metadata": {},
     "output_type": "execute_result"
    }
   ],
   "source": [
    "def funciongabi () :\n",
    "    a= range (2000,3201)\n",
    "    lista=[]\n",
    "    for i in a:\n",
    "        if (i%7==0 and i%5!=0 ):\n",
    "            lista.append(i)\n",
    "    \n",
    "    sep=','\n",
    "    listanueva = sep.join(map(str, lista))\n",
    "    return listanueva\n",
    "funciongabi()"
   ]
  },
  {
   "cell_type": "markdown",
   "id": "06b93a78",
   "metadata": {},
   "source": [
    "Dado un número entero, escriba un programa para generar un diccionario que contenga (i, i*i) desde el entero integral 1 al n (ambos incluidos). Luego el programa debe mostrar el diccionario.\n",
    "Suponga que se suministra la siguiente entrada al programa:\n",
    "8\n",
    "Entonces, la salida debería ser\n",
    "{1: 1, 2: 4, 3: 9, 4: 16, 5: 25, 6: 36, 7: 49, 8: 64}"
   ]
  },
  {
   "cell_type": "code",
   "execution_count": 39,
   "id": "9ef245d6",
   "metadata": {},
   "outputs": [
    {
     "data": {
      "text/plain": [
       "{1: 1, 2: 4, 3: 9, 4: 16, 5: 25, 6: 36, 7: 49, 8: 64}"
      ]
     },
     "execution_count": 39,
     "metadata": {},
     "output_type": "execute_result"
    }
   ],
   "source": [
    "def funciongabi (n):\n",
    "    dicci={}\n",
    "    for i in range (1, n+1):\n",
    "        dicci[i]=i**2\n",
    "    return dicci\n",
    "funciongabi(8)"
   ]
  },
  {
   "cell_type": "code",
   "execution_count": 6,
   "id": "515c5d01",
   "metadata": {},
   "outputs": [
    {
     "data": {
      "text/plain": [
       "{1: 1, 2: 4, 3: 9, 4: 16, 5: 25, 6: 36, 7: 49, 8: 64}"
      ]
     },
     "execution_count": 6,
     "metadata": {},
     "output_type": "execute_result"
    }
   ],
   "source": [
    "def dic(n):\n",
    "    return {i:i*i for i in range(1,n+1)}\n",
    "dic(8)"
   ]
  },
  {
   "cell_type": "code",
   "execution_count": 9,
   "id": "55836047",
   "metadata": {},
   "outputs": [
    {
     "name": "stdout",
     "output_type": "stream",
     "text": [
      "8\n",
      "{1: 1, 2: 4, 3: 9, 4: 16, 5: 25, 6: 36, 7: 49, 8: 64}\n"
     ]
    }
   ],
   "source": [
    "n=int(input())\n",
    "d=dict()\n",
    "for i in range(1,n+1):\n",
    "    d[i]=i*i\n",
    "\n",
    "print(d)"
   ]
  },
  {
   "cell_type": "markdown",
   "id": "4aed80d3",
   "metadata": {},
   "source": [
    "Escriba un programa que acepte como entrada una secuencia de palabras separadas por comas e imprima las palabras en una secuencia separada por comas después de ordenarlas alfabéticamente."
   ]
  },
  {
   "cell_type": "code",
   "execution_count": 40,
   "id": "a42dda6b",
   "metadata": {},
   "outputs": [
    {
     "data": {
      "text/plain": [
       "['Gabi', 'hola', 'tal', 'ue']"
      ]
     },
     "execution_count": 40,
     "metadata": {},
     "output_type": "execute_result"
    }
   ],
   "source": [
    "def ordenagabi (palabras):\n",
    "    palabras_separadas=palabras.split(\",\")\n",
    "    p=sorted(palabras_separadas)\n",
    "    return p\n",
    "ordenagabi (\"hola,ue,tal,Gabi\")"
   ]
  },
  {
   "cell_type": "code",
   "execution_count": 25,
   "id": "7e235673",
   "metadata": {},
   "outputs": [
    {
     "name": "stdout",
     "output_type": "stream",
     "text": [
      "Introduce palabras separadas por comasdfd, dfd, dfdf\n"
     ]
    }
   ],
   "source": [
    "def sort():\n",
    "    palabras=str(input(\"Introduce palabras separadas por comas\"))\n",
    "    palabras_divididas = palabras.split(\",\")\n",
    "    \n",
    "    return palabras_divididas.sort()\n",
    "\n",
    "sort()"
   ]
  },
  {
   "cell_type": "code",
   "execution_count": 14,
   "id": "8d3a1fe5",
   "metadata": {},
   "outputs": [
    {
     "name": "stdout",
     "output_type": "stream",
     "text": [
      "introduce palabras separadas por comas: papa, perro,perfil\n",
      " perro,papa,perfil\n"
     ]
    }
   ],
   "source": [
    "palabras=input('introduce palabras separadas por comas: ')\n",
    "lista_palabras = palabras.split(',')\n",
    "lista_palabras.sort()\n",
    "print(','.join(lista_palabras))"
   ]
  },
  {
   "cell_type": "code",
   "execution_count": 32,
   "id": "e98d7ed1",
   "metadata": {
    "scrolled": true
   },
   "outputs": [
    {
     "name": "stdout",
     "output_type": "stream",
     "text": [
      "None\n"
     ]
    }
   ],
   "source": [
    "lista = [\"d\",\"a\",\"c\",\"x\",\"b\"]\n",
    "print(lista.sort())"
   ]
  },
  {
   "cell_type": "code",
   "execution_count": 22,
   "id": "78f4eb61",
   "metadata": {},
   "outputs": [
    {
     "name": "stdout",
     "output_type": "stream",
     "text": [
      "140519415124032\n",
      "140519415124032\n"
     ]
    }
   ],
   "source": [
    "lista = [\"d\",\"a\",\"c\",\"x\",\"b\"]\n",
    "print(id(lista))\n",
    "lista.sort()\n",
    "print(id(lista))"
   ]
  },
  {
   "cell_type": "code",
   "execution_count": null,
   "id": "97585123",
   "metadata": {},
   "outputs": [],
   "source": []
  },
  {
   "cell_type": "code",
   "execution_count": 33,
   "id": "bc8a085b",
   "metadata": {},
   "outputs": [
    {
     "data": {
      "text/plain": [
       "['a', 'b', 'c', 'd', 'x']"
      ]
     },
     "execution_count": 33,
     "metadata": {},
     "output_type": "execute_result"
    }
   ],
   "source": [
    "lista = [\"d\",\"a\",\"c\",\"x\",\"b\"]\n",
    "nueva_lista = sorted(lista)\n",
    "nueva_lista"
   ]
  },
  {
   "cell_type": "markdown",
   "id": "929c7070",
   "metadata": {},
   "source": [
    "Escriba un programa que acepte una secuencia de palabras separadas por espacios en blanco como entrada e imprima las palabras después de eliminar todas las palabras duplicadas y ordenarlas alfabéticamente."
   ]
  },
  {
   "cell_type": "code",
   "execution_count": 41,
   "id": "8fced50d",
   "metadata": {},
   "outputs": [
    {
     "data": {
      "text/plain": [
       "['Gabi', 'hola', 'tal', 'ue']"
      ]
     },
     "execution_count": 41,
     "metadata": {},
     "output_type": "execute_result"
    }
   ],
   "source": [
    "def ordenagabi2 (palabras):\n",
    "    palabras_separadas=palabras.split(\" \")\n",
    "    setgabi=set(palabras_separadas)\n",
    "    listagabi=list(setgabi)\n",
    "    p=sorted(listagabi)\n",
    "    return p\n",
    "ordenagabi2 (\"hola ue tal tal ue Gabi\")"
   ]
  },
  {
   "cell_type": "code",
   "execution_count": 23,
   "id": "bce924a9",
   "metadata": {},
   "outputs": [
    {
     "name": "stdout",
     "output_type": "stream",
     "text": [
      "['cara', 'cola', 'hola', 'que', 'tal']\n"
     ]
    }
   ],
   "source": [
    "frase = \"hola cara cola hola que tal cola\"\n",
    "print (sorted(list(set(frase.split(\" \")))))"
   ]
  },
  {
   "cell_type": "markdown",
   "id": "5c24888c",
   "metadata": {},
   "source": [
    "Escriba un programa que encuentre todos los números comprendidos entre 1000 y 3000 (ambos incluidos) de forma que cada dígito del número sea un número par.\n",
    "Los números obtenidos deben imprimirse en una secuencia separada por comas en una sola línea."
   ]
  },
  {
   "cell_type": "markdown",
   "id": "860ad9f7",
   "metadata": {},
   "source": [
    "Un sitio web requiere que los usuarios introduzcan un nombre de usuario y una contraseña para registrarse. Escribe un programa que compruebe la validez de la contraseña introducida por los usuarios.\n",
    "Los siguientes son los criterios para comprobar la contraseña:\n",
    "\n",
    "1. Al menos 1 letra minúscula\n",
    "2. 2. Al menos 1 número\n",
    "3. Al menos 1 letra mayúscula\n",
    "4. Al menos 1 carácter de [$#@]\n",
    "5. Longitud mínima de la contraseña: 6\n",
    "6. Longitud máxima de la contraseña : 12\n",
    "\n",
    "Su programa debe aceptar una secuencia de contraseñas separadas por comas y las comprobará según los criterios anteriores. Las contraseñas que coincidan con los criterios se imprimirán, cada una separada por una coma."
   ]
  },
  {
   "cell_type": "markdown",
   "id": "ee733969",
   "metadata": {},
   "source": [
    "Debes escribir un programa que ordene las tuplas (nombre, edad, altura) por orden ascendente donde el nombre es una cadena, la edad y la altura son números. Las tuplas se introducen por consola. El criterio de ordenación es:\n",
    "\n",
    "1: Ordenar en base al nombre;\n",
    "\n",
    "2: Luego ordenar en base a la edad;\n",
    "\n",
    "3: Luego ordenar por puntuación.\n",
    "\n",
    "La prioridad es  nombre > edad > puntuación.\n",
    "\n"
   ]
  },
  {
   "cell_type": "markdown",
   "id": "70963b18",
   "metadata": {},
   "source": [
    "Comprobar la conjetura de Goldbach para los 100 primeros números pares."
   ]
  },
  {
   "cell_type": "code",
   "execution_count": null,
   "id": "1303f2b6",
   "metadata": {},
   "outputs": [],
   "source": []
  }
 ],
 "metadata": {
  "kernelspec": {
   "display_name": "Python 3 (ipykernel)",
   "language": "python",
   "name": "python3"
  },
  "language_info": {
   "codemirror_mode": {
    "name": "ipython",
    "version": 3
   },
   "file_extension": ".py",
   "mimetype": "text/x-python",
   "name": "python",
   "nbconvert_exporter": "python",
   "pygments_lexer": "ipython3",
   "version": "3.9.13"
  }
 },
 "nbformat": 4,
 "nbformat_minor": 5
}
